{
 "metadata": {
  "language_info": {
   "codemirror_mode": {
    "name": "ipython",
    "version": 3
   },
   "file_extension": ".py",
   "mimetype": "text/x-python",
   "name": "python",
   "nbconvert_exporter": "python",
   "pygments_lexer": "ipython3",
   "version": "3.9.1"
  },
  "orig_nbformat": 2,
  "kernelspec": {
   "name": "python391jvsc74a57bd029fe08878e816dcc9c09893361bf27c4117891c35368097e8d3cd36a2718d6e3",
   "display_name": "Python 3.9.1 64-bit"
  },
  "metadata": {
   "interpreter": {
    "hash": "29fe08878e816dcc9c09893361bf27c4117891c35368097e8d3cd36a2718d6e3"
   }
  }
 },
 "nbformat": 4,
 "nbformat_minor": 2,
 "cells": [
  {
   "cell_type": "code",
   "execution_count": 57,
   "metadata": {},
   "outputs": [],
   "source": [
    "import pandas as pd\n",
    "df = pd.read_csv('test.txt', header = None)\n",
    "df.columns = ['api', 'start_time', 'end_time']\n"
   ]
  },
  {
   "cell_type": "code",
   "execution_count": 58,
   "metadata": {},
   "outputs": [
    {
     "output_type": "execute_result",
     "data": {
      "text/plain": [
       "0        2021-04-13 17:29:24.569064\n",
       "1        2021-04-13 17:29:24.570063\n",
       "2        2021-04-13 17:29:24.570063\n",
       "3        2021-04-13 17:29:24.570063\n",
       "4        2021-04-13 17:29:24.570063\n",
       "                    ...            \n",
       "74802    2021-04-13 17:29:26.974050\n",
       "74803    2021-04-13 17:29:26.974050\n",
       "74804    2021-04-13 17:29:26.974050\n",
       "74805    2021-04-13 17:29:26.974050\n",
       "74806    2021-04-13 17:29:26.975050\n",
       "Name: end_time, Length: 74807, dtype: object"
      ]
     },
     "metadata": {},
     "execution_count": 58
    }
   ],
   "source": [
    "df['end_time']"
   ]
  },
  {
   "cell_type": "code",
   "execution_count": 59,
   "metadata": {},
   "outputs": [],
   "source": [
    "df['start_time'] = pd.to_datetime(df['start_time']).dt.strftime(\"%Y-%m-%d %H:%M:%S\")\n",
    "df['end_time'] = pd.to_datetime(df['end_time']).dt.strftime(\"%Y-%m-%d %H:%M:%S\")"
   ]
  },
  {
   "cell_type": "code",
   "execution_count": 60,
   "metadata": {},
   "outputs": [
    {
     "output_type": "execute_result",
     "data": {
      "text/plain": [
       "                       api  end_time\n",
       "start_time                          \n",
       "2021-04-13 17:29:24   6628      6628\n",
       "2021-04-13 17:29:25  38632     38632\n",
       "2021-04-13 17:29:26  29547     29547"
      ],
      "text/html": "<div>\n<style scoped>\n    .dataframe tbody tr th:only-of-type {\n        vertical-align: middle;\n    }\n\n    .dataframe tbody tr th {\n        vertical-align: top;\n    }\n\n    .dataframe thead th {\n        text-align: right;\n    }\n</style>\n<table border=\"1\" class=\"dataframe\">\n  <thead>\n    <tr style=\"text-align: right;\">\n      <th></th>\n      <th>api</th>\n      <th>end_time</th>\n    </tr>\n    <tr>\n      <th>start_time</th>\n      <th></th>\n      <th></th>\n    </tr>\n  </thead>\n  <tbody>\n    <tr>\n      <th>2021-04-13 17:29:24</th>\n      <td>6628</td>\n      <td>6628</td>\n    </tr>\n    <tr>\n      <th>2021-04-13 17:29:25</th>\n      <td>38632</td>\n      <td>38632</td>\n    </tr>\n    <tr>\n      <th>2021-04-13 17:29:26</th>\n      <td>29547</td>\n      <td>29547</td>\n    </tr>\n  </tbody>\n</table>\n</div>"
     },
     "metadata": {},
     "execution_count": 60
    }
   ],
   "source": [
    "df.groupby(by='start_time', axis = 0).count()"
   ]
  },
  {
   "cell_type": "code",
   "execution_count": 61,
   "metadata": {},
   "outputs": [
    {
     "output_type": "execute_result",
     "data": {
      "text/plain": [
       "                       api  start_time\n",
       "end_time                              \n",
       "2021-04-13 17:29:24   6620        6620\n",
       "2021-04-13 17:29:25  38632       38632\n",
       "2021-04-13 17:29:26  29555       29555"
      ],
      "text/html": "<div>\n<style scoped>\n    .dataframe tbody tr th:only-of-type {\n        vertical-align: middle;\n    }\n\n    .dataframe tbody tr th {\n        vertical-align: top;\n    }\n\n    .dataframe thead th {\n        text-align: right;\n    }\n</style>\n<table border=\"1\" class=\"dataframe\">\n  <thead>\n    <tr style=\"text-align: right;\">\n      <th></th>\n      <th>api</th>\n      <th>start_time</th>\n    </tr>\n    <tr>\n      <th>end_time</th>\n      <th></th>\n      <th></th>\n    </tr>\n  </thead>\n  <tbody>\n    <tr>\n      <th>2021-04-13 17:29:24</th>\n      <td>6620</td>\n      <td>6620</td>\n    </tr>\n    <tr>\n      <th>2021-04-13 17:29:25</th>\n      <td>38632</td>\n      <td>38632</td>\n    </tr>\n    <tr>\n      <th>2021-04-13 17:29:26</th>\n      <td>29555</td>\n      <td>29555</td>\n    </tr>\n  </tbody>\n</table>\n</div>"
     },
     "metadata": {},
     "execution_count": 61
    }
   ],
   "source": [
    "df.groupby(by='end_time', axis = 0).count()"
   ]
  },
  {
   "cell_type": "code",
   "execution_count": 37,
   "metadata": {},
   "outputs": [
    {
     "output_type": "execute_result",
     "data": {
      "text/plain": [
       "16"
      ]
     },
     "metadata": {},
     "execution_count": 37
    }
   ],
   "source": [
    "os.cpu_count()"
   ]
  },
  {
   "cell_type": "code",
   "execution_count": null,
   "metadata": {},
   "outputs": [],
   "source": [
    "import grequests\n",
    "apis = [\"https://www.baidu.com/\"]\n",
    "rs = (grequests.get(api) for api in apis)\n",
    "grequests.map(rs)"
   ]
  }
 ]
}